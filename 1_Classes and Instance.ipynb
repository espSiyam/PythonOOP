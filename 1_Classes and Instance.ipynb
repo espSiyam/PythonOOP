{
 "cells": [
  {
   "cell_type": "markdown",
   "metadata": {},
   "source": [
    "## When we need empty class"
   ]
  },
  {
   "cell_type": "code",
   "execution_count": null,
   "metadata": {},
   "outputs": [],
   "source": [
    "class Employeee:\n",
    "    pass"
   ]
  },
  {
   "cell_type": "code",
   "execution_count": 3,
   "metadata": {},
   "outputs": [],
   "source": [
    "emp1 = Employeee()\n",
    "emp2 = Employeee()"
   ]
  },
  {
   "cell_type": "code",
   "execution_count": 4,
   "metadata": {},
   "outputs": [
    {
     "name": "stdout",
     "output_type": "stream",
     "text": [
      "<__main__.Employeee object at 0x000001CBF71D1F48>\n",
      "<__main__.Employeee object at 0x000001CBF71D1AC8>\n"
     ]
    }
   ],
   "source": [
    "print(emp1)\n",
    "print(emp2)"
   ]
  },
  {
   "cell_type": "markdown",
   "metadata": {},
   "source": [
    "## Assigining to class variable manually"
   ]
  },
  {
   "cell_type": "code",
   "execution_count": 5,
   "metadata": {},
   "outputs": [],
   "source": [
    "emp1.first = \"Sohag Ahammed\"\n",
    "emp1.last = \"Siyam\"\n",
    "emp1.email = \"siyam@gamil.com\"\n",
    "\n",
    "emp2.first = \"Test\"\n",
    "emp2.last = \"User\"\n",
    "emp2.email = \"test@gamil.com\""
   ]
  },
  {
   "cell_type": "code",
   "execution_count": 6,
   "metadata": {},
   "outputs": [
    {
     "name": "stdout",
     "output_type": "stream",
     "text": [
      "siyam@gamil.com\n",
      "test@gamil.com\n"
     ]
    }
   ],
   "source": [
    "print(emp1.email)\n",
    "print(emp2.email)"
   ]
  },
  {
   "cell_type": "markdown",
   "metadata": {},
   "source": [
    "## Assigining to class variable Automatically"
   ]
  },
  {
   "cell_type": "code",
   "execution_count": 28,
   "metadata": {},
   "outputs": [],
   "source": [
    "class Employee:\n",
    "    \n",
    "    def __init__(self, first, last, pay):\n",
    "        self.first = first\n",
    "        self.last  = last\n",
    "        self.pay = pay\n",
    "        self.email = first + '.' + last + \"@gmail.com\"\n",
    "    \n",
    "    def fullname(self):\n",
    "        return '{} {}'.format(self.first, self.last)\n",
    "    "
   ]
  },
  {
   "cell_type": "code",
   "execution_count": 29,
   "metadata": {},
   "outputs": [],
   "source": [
    "emp1 = Employee(\"Sohag_Ahammed\", \"Siyam\", 50000)\n",
    "emp2 = Employee(\"Test\", \"User\", 70000)"
   ]
  },
  {
   "cell_type": "code",
   "execution_count": 30,
   "metadata": {},
   "outputs": [
    {
     "name": "stdout",
     "output_type": "stream",
     "text": [
      "Sohag_Ahammed.Siyam@gmail.com\n",
      "Test.User@gmail.com\n"
     ]
    }
   ],
   "source": [
    "print(emp1.email)\n",
    "print(emp2.email)"
   ]
  },
  {
   "cell_type": "code",
   "execution_count": 36,
   "metadata": {},
   "outputs": [
    {
     "name": "stdout",
     "output_type": "stream",
     "text": [
      "Sohag_Ahammed Siyam\n",
      "Sohag_Ahammed Siyam\n"
     ]
    }
   ],
   "source": [
    "print(emp1.fullname())\n",
    "print(Employee.fullname(emp1))"
   ]
  },
  {
   "cell_type": "code",
   "execution_count": 37,
   "metadata": {},
   "outputs": [
    {
     "name": "stdout",
     "output_type": "stream",
     "text": [
      "Test User\n",
      "Test User\n"
     ]
    }
   ],
   "source": [
    "print(emp2.fullname())\n",
    "print(Employee.fullname(emp2))"
   ]
  },
  {
   "cell_type": "code",
   "execution_count": null,
   "metadata": {},
   "outputs": [],
   "source": []
  }
 ],
 "metadata": {
  "kernelspec": {
   "display_name": "Python 3",
   "language": "python",
   "name": "python3"
  },
  "language_info": {
   "codemirror_mode": {
    "name": "ipython",
    "version": 3
   },
   "file_extension": ".py",
   "mimetype": "text/x-python",
   "name": "python",
   "nbconvert_exporter": "python",
   "pygments_lexer": "ipython3",
   "version": "3.7.7"
  }
 },
 "nbformat": 4,
 "nbformat_minor": 4
}
